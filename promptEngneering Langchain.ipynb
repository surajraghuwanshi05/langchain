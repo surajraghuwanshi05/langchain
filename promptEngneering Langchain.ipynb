{
 "cells": [
  {
   "cell_type": "code",
   "execution_count": 1,
   "id": "26426adf",
   "metadata": {},
   "outputs": [],
   "source": [
    "import os \n",
    "os.environ[\"OPENAI_API_KEY\"] = \"sk-proj-KaD4Q4f9ROhoAzN39g86T3BlbkFJAkxfMMfRoqYVhyWpjQTe\""
   ]
  },
  {
   "cell_type": "code",
   "execution_count": null,
   "id": "97296451",
   "metadata": {},
   "outputs": [],
   "source": [
    "from langchain import PromptTemplate\n",
    "\n",
    "demo_template = \"\"\"I want you to act as acting financial adiviser for people.\n",
    "In an easy way, expalain the basic of {finencial_concept}.\"\"\"\n",
    "\n",
    "prompt = PromptTemplate(\n",
    "    input_variable=[\"financial_concept\"],\n",
    "    template= demo_template\n",
    ")\n",
    "prompt.format(financial_concept= \"income tax\")"
   ]
  },
  {
   "cell_type": "code",
   "execution_count": null,
   "id": "3b2724ef",
   "metadata": {},
   "outputs": [],
   "source": [
    "from langchain.llms import OpenAI\n",
    "from langchain.chains import LLMChain\n",
    "\n",
    "llm= OpenAI(temprature= 0.7)\n",
    "chain1 =LLMChain(llm=llm, prompt=prompt)"
   ]
  },
  {
   "cell_type": "code",
   "execution_count": null,
   "id": "f7d7c8a5",
   "metadata": {},
   "outputs": [],
   "source": [
    "chain1.run(\"Gdp\")"
   ]
  },
  {
   "cell_type": "code",
   "execution_count": null,
   "id": "b1396dbd",
   "metadata": {},
   "outputs": [],
   "source": [
    "# Language Translation\n",
    "from langchain import PromptTemplate\n",
    "\n",
    "template = ''' in an easy way translate the following sentence '{sentence}' into {target_language} '''\n",
    "language_prompt = PromptTemplate(\n",
    "    input_variables = [\"sentence\", \"target_language\"],\n",
    "    template = template,\n",
    ")\n",
    "language_prompt.format(sentence= \"how are you \", target_language='hindi')"
   ]
  },
  {
   "cell_type": "code",
   "execution_count": null,
   "id": "1982cf9f",
   "metadata": {},
   "outputs": [],
   "source": [
    "chain2 = LLMChain(llm=llm,prompt=language_prompt)\n",
    "# whenever we having more than one parameter we have to give it in thr form of key value pair\n",
    "chain2({'sentence': \"hello how are you\", 'target_language': \"hindi\"})"
   ]
  },
  {
   "cell_type": "code",
   "execution_count": 3,
   "id": "62d32644",
   "metadata": {},
   "outputs": [],
   "source": [
    "from langchain import PromptTemplate, FewShotPromptTemplate\n",
    "\n",
    "# firat create the list of few shot examples \n",
    "examples = [\n",
    "    {\"word\": 'happy', \"antonym\": \"sad\"},\n",
    "    { 'word': \"tall\", 'antonym': \"short\"},\n",
    "    \n",
    "]\n",
    "\n",
    "# next we specity the t template to format the exaples we have provided \n",
    "# we use the PromptTemplate class for this. \n",
    "example_formatter_template = \"\"\"Word:{word} antonym:{antonym}\n",
    "\"\"\"\n",
    "example_prompt = PromptTemplate(\n",
    "    input_variable = [\"word\", \"antonym\"],\n",
    "    template = example_formatter_template,\n",
    ")"
   ]
  },
  {
   "cell_type": "code",
   "execution_count": 7,
   "id": "da6f520b",
   "metadata": {},
   "outputs": [],
   "source": [
    "#  Finally we create the fewShotPromptTemplate object.\n",
    "few_shot_prompt = FewShotPromptTemplate(\n",
    "    # these are the example we want to insert into thr prompt.\n",
    "    examples = examples,\n",
    "    # this is how we want to format the examples when we insert them into the prompt.\n",
    "    example_prompt = example_prompt,\n",
    "    # the prefix is some text that goes before the example in the prompt.\n",
    "    # Usually, this consist of instructure .\n",
    "    prefix = \"Give the antony, of every input\\n\",\n",
    "    # the suffix is some text that goes before the example in the prompt.\n",
    "    # Usually this is where the user input will go \n",
    "    suffix = \"Word: {input}\\nAntonym:\",\n",
    "#     the input variable are the variables that the overall prompt expects.\n",
    "    input_variables = [\"input\"],\n",
    "    # the example_seprator is the string we will use to join the prefix, exaples, and suffix togther\n",
    "    example_separator = \"\\n\"\n",
    ")"
   ]
  },
  {
   "cell_type": "code",
   "execution_count": 8,
   "id": "56b38b87",
   "metadata": {},
   "outputs": [
    {
     "name": "stdout",
     "output_type": "stream",
     "text": [
      "Give the antony, of every input\n",
      "\n",
      "Word:happy antonym:sad\n",
      "\n",
      "Word:tall antonym:short\n",
      "\n",
      "Word: big\n",
      "Antonym:\n"
     ]
    }
   ],
   "source": [
    "print(few_shot_prompt.format(input='big'))"
   ]
  },
  {
   "cell_type": "code",
   "execution_count": null,
   "id": "7d31a1ae",
   "metadata": {},
   "outputs": [],
   "source": [
    "chain = LLMChain(llm=llm, prompt=few_shot_prompt)\n",
    "chain({'input':\"big\"})"
   ]
  }
 ],
 "metadata": {
  "kernelspec": {
   "display_name": "Python 3 (ipykernel)",
   "language": "python",
   "name": "python3"
  },
  "language_info": {
   "codemirror_mode": {
    "name": "ipython",
    "version": 3
   },
   "file_extension": ".py",
   "mimetype": "text/x-python",
   "name": "python",
   "nbconvert_exporter": "python",
   "pygments_lexer": "ipython3",
   "version": "3.11.5"
  }
 },
 "nbformat": 4,
 "nbformat_minor": 5
}
